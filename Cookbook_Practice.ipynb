{
 "cells": [
  {
   "cell_type": "markdown",
   "metadata": {},
   "source": [
    "### Some examples of *Pythonic* code-chunks from *Python Cookbook by David Beazley & Brian K. Jones*"
   ]
  },
  {
   "cell_type": "markdown",
   "metadata": {},
   "source": [
    "#### Q1: Unpacking elements of list (or tuple):"
   ]
  },
  {
   "cell_type": "code",
   "execution_count": 11,
   "metadata": {},
   "outputs": [
    {
     "data": {
      "text/plain": [
       "('Mehul', 'Patel', 'Python', (4, 11, 2018))"
      ]
     },
     "execution_count": 11,
     "metadata": {},
     "output_type": "execute_result"
    }
   ],
   "source": [
    "data = ['Mehul', 'Patel', 'Python', 11, (4,11,2018)]\n",
    "f_name, l_name, interest, _, dt = data  ## Can also introduce throwaway variables by using _\n",
    "f_name, l_name, interest, dt"
   ]
  },
  {
   "cell_type": "code",
   "execution_count": 12,
   "metadata": {},
   "outputs": [
    {
     "data": {
      "text/plain": [
       "(4, 2018)"
      ]
     },
     "execution_count": 12,
     "metadata": {},
     "output_type": "execute_result"
    }
   ],
   "source": [
    "mnth, week_day, yr = dt\n",
    "mnth, yr"
   ]
  },
  {
   "cell_type": "code",
   "execution_count": 22,
   "metadata": {},
   "outputs": [
    {
     "data": {
      "text/plain": [
       "[45, 3454, 345, 46, 2345, 54, 235]"
      ]
     },
     "execution_count": 22,
     "metadata": {},
     "output_type": "execute_result"
    }
   ],
   "source": [
    "data_2 = [45,3454,345,46,2345,54,235,45]\n",
    "*all_previous, recent = data_2\n",
    "\n",
    "## Notice the last element will be stored into 'recent'\n",
    "all_previous"
   ]
  },
  {
   "cell_type": "code",
   "execution_count": 29,
   "metadata": {},
   "outputs": [
    {
     "data": {
      "text/plain": [
       "('/var/empty', '/usr/bin/false')"
      ]
     },
     "execution_count": 29,
     "metadata": {},
     "output_type": "execute_result"
    }
   ],
   "source": [
    "data_3 = 'nobody:*:-2:-2:Unprivileged User:/var/empty:/usr/bin/false'\n",
    "*_, dir_1, dir_2 = data_3.split(':')\n",
    "\n",
    "dir_1, dir_2"
   ]
  },
  {
   "cell_type": "markdown",
   "metadata": {},
   "source": [
    "#### Q2: Storing elements in different variables when you don't know how many elements are going to be (i.e. Unpacking elements from an interable of arbitrary length)"
   ]
  },
  {
   "cell_type": "code",
   "execution_count": 13,
   "metadata": {
    "collapsed": true
   },
   "outputs": [],
   "source": [
    "## 1. Store multiple phone numbers from user-data\n",
    "def get_phone_numbers(record):\n",
    "    \n",
    "    f_name, l_name, *phone_numbers = record\n",
    "    \n",
    "    return phone_numbers"
   ]
  },
  {
   "cell_type": "code",
   "execution_count": 19,
   "metadata": {},
   "outputs": [
    {
     "data": {
      "text/plain": [
       "['123-456-7890', '0987-654-321']"
      ]
     },
     "execution_count": 19,
     "metadata": {},
     "output_type": "execute_result"
    }
   ],
   "source": [
    "## Will always be a list!\n",
    "get_phone_numbers(record = ['Mehul', 'Patel', '123-456-7890', '0987-654-321'])"
   ]
  },
  {
   "cell_type": "code",
   "execution_count": 20,
   "metadata": {},
   "outputs": [
    {
     "data": {
      "text/plain": [
       "['123-456-7890']"
      ]
     },
     "execution_count": 20,
     "metadata": {},
     "output_type": "execute_result"
    }
   ],
   "source": [
    "get_phone_numbers(record = ['Mehul', 'Patel', '123-456-7890'])"
   ]
  },
  {
   "cell_type": "code",
   "execution_count": 39,
   "metadata": {},
   "outputs": [
    {
     "data": {
      "text/plain": [
       "6"
      ]
     },
     "execution_count": 39,
     "metadata": {},
     "output_type": "execute_result"
    }
   ],
   "source": [
    "## 2. Sum numbers: 1st element + rest of the elements\n",
    "def get_sum(nums):\n",
    "    \n",
    "    head, *tail = nums\n",
    "    \n",
    "    return head + sum(tail)\n",
    "\n",
    "get_sum([1,2,3])"
   ]
  },
  {
   "cell_type": "markdown",
   "metadata": {},
   "source": [
    "#### Q3: Inserting and removing elements from a *deque*:"
   ]
  },
  {
   "cell_type": "code",
   "execution_count": 40,
   "metadata": {
    "collapsed": true
   },
   "outputs": [],
   "source": [
    "from collections import deque"
   ]
  },
  {
   "cell_type": "code",
   "execution_count": 58,
   "metadata": {},
   "outputs": [
    {
     "data": {
      "text/plain": [
       "deque([1, 10, 21])"
      ]
     },
     "execution_count": 58,
     "metadata": {},
     "output_type": "execute_result"
    }
   ],
   "source": [
    "# deck = deque(maxlen = 3)\n",
    "deck = deque()\n",
    "deck.append(1)\n",
    "deck.append(10)\n",
    "deck.append(21)\n",
    "deck"
   ]
  },
  {
   "cell_type": "code",
   "execution_count": 59,
   "metadata": {},
   "outputs": [
    {
     "name": "stdout",
     "output_type": "stream",
     "text": [
      "deque([101, 1, 10, 21])\n",
      "deque([101, 1, 10, 21, 201])\n"
     ]
    }
   ],
   "source": [
    "deck.appendleft(101)\n",
    "print (deck)\n",
    "\n",
    "deck.append(201)\n",
    "print (deck)"
   ]
  },
  {
   "cell_type": "code",
   "execution_count": 60,
   "metadata": {},
   "outputs": [
    {
     "data": {
      "text/plain": [
       "deque([101, 1, 10, 21])"
      ]
     },
     "execution_count": 60,
     "metadata": {},
     "output_type": "execute_result"
    }
   ],
   "source": [
    "## Defaults to last element:\n",
    "deck.pop()\n",
    "deck"
   ]
  },
  {
   "cell_type": "code",
   "execution_count": null,
   "metadata": {
    "collapsed": true
   },
   "outputs": [],
   "source": []
  }
 ],
 "metadata": {
  "kernelspec": {
   "display_name": "Python 3",
   "language": "python",
   "name": "python3"
  },
  "language_info": {
   "codemirror_mode": {
    "name": "ipython",
    "version": 3
   },
   "file_extension": ".py",
   "mimetype": "text/x-python",
   "name": "python",
   "nbconvert_exporter": "python",
   "pygments_lexer": "ipython3",
   "version": "3.6.3"
  }
 },
 "nbformat": 4,
 "nbformat_minor": 2
}
